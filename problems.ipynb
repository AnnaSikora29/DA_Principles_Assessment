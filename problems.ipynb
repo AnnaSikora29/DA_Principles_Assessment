{
 "cells": [
  {
   "cell_type": "markdown",
   "id": "7d97c5b7",
   "metadata": {},
   "source": [
    "# Assesment"
   ]
  },
  {
   "cell_type": "markdown",
   "id": "5290f184",
   "metadata": {},
   "source": []
  }
 ],
 "metadata": {
  "language_info": {
   "name": "python"
  }
 },
 "nbformat": 4,
 "nbformat_minor": 5
}
