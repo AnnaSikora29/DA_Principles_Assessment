{
 "cells": [
  {
   "cell_type": "markdown",
   "id": "7d97c5b7",
   "metadata": {},
   "source": [
    "# Assesment"
   ]
  },
  {
   "cell_type": "markdown",
   "id": "ce5f3a75",
   "metadata": {},
   "source": [
    "### Datasets for wine datasets "
   ]
  },
  {
   "cell_type": "code",
   "execution_count": null,
   "id": "1050d8a5",
   "metadata": {},
   "outputs": [],
   "source": [
    "# Data frames.\n",
    "import pandas as pd"
   ]
  },
  {
   "cell_type": "code",
   "execution_count": null,
   "id": "2223dd1a",
   "metadata": {},
   "outputs": [],
   "source": [
    "# Data frames.\n",
    "import pandas as pd\n",
    "\n",
    "# Machine Learning Library that contains example datasets.\n",
    "import sklearn as skl"
   ]
  },
  {
   "cell_type": "markdown",
   "id": "77cb4764",
   "metadata": {},
   "source": [
    "https://scikit-learn.org/stable/modules/generated/sklearn.datasets.load_wine.html"
   ]
  },
  {
   "cell_type": "code",
   "execution_count": null,
   "id": "ae3775d0",
   "metadata": {},
   "outputs": [],
   "source": []
  },
  {
   "cell_type": "code",
   "execution_count": null,
   "id": "b4bbecc2",
   "metadata": {},
   "outputs": [],
   "source": []
  },
  {
   "cell_type": "markdown",
   "id": "f127228b",
   "metadata": {},
   "source": [
    "** next step is to import Pandas as it is easier to read datasets than NumPy**"
   ]
  },
  {
   "cell_type": "code",
   "execution_count": null,
   "id": "eadef1c9",
   "metadata": {},
   "outputs": [],
   "source": [
    "# Raw NumPy array from the dataset\n",
    "wine.data[0]\n",
    "\n",
    "# vs. same row in a DataFrame\n",
    "df.iloc[0]"
   ]
  },
  {
   "cell_type": "code",
   "execution_count": null,
   "id": "ea46d95f",
   "metadata": {},
   "outputs": [
    {
     "name": "stdout",
     "output_type": "stream",
     "text": [
      "Hello, world!\n"
     ]
    }
   ],
   "source": [
    "print ('Hello, world!')"
   ]
  },
  {
   "cell_type": "code",
   "execution_count": null,
   "id": "adb0b06d",
   "metadata": {},
   "outputs": [],
   "source": [
    "from sklearn.datasets import load_wine\n",
    "import pandas as pd\n",
    "\n",
    "# Load the wine dataset\n",
    "wine = load_wine()\n",
    "\n",
    "# Convert to pandas DataFrame\n",
    "df = pd.DataFrame(data=wine.data, columns=wine.feature_names)\n",
    "df['target'] = wine.target\n",
    "\n",
    "# Show first 5 rows\n",
    "df.head()\n"
   ]
  },
  {
   "cell_type": "markdown",
   "id": "968a8152",
   "metadata": {},
   "source": [
    "sklearn.datasets.load_wine()"
   ]
  },
  {
   "cell_type": "markdown",
   "id": "e861e61a",
   "metadata": {},
   "source": []
  },
  {
   "cell_type": "markdown",
   "id": "5290f184",
   "metadata": {},
   "source": []
  }
 ],
 "metadata": {
  "kernelspec": {
   "display_name": "Python 3",
   "language": "python",
   "name": "python3"
  },
  "language_info": {
   "codemirror_mode": {
    "name": "ipython",
    "version": 3
   },
   "file_extension": ".py",
   "mimetype": "text/x-python",
   "name": "python",
   "nbconvert_exporter": "python",
   "pygments_lexer": "ipython3",
   "version": "3.12.1"
  }
 },
 "nbformat": 4,
 "nbformat_minor": 5
}
